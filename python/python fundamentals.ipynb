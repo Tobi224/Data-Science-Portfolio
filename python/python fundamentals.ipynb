{
 "cells": [
  {
   "cell_type": "code",
   "execution_count": 1,
   "id": "e590315e-ace7-4e55-a235-7ee084053f2f",
   "metadata": {},
   "outputs": [
    {
     "data": {
      "text/plain": [
       "1"
      ]
     },
     "execution_count": 1,
     "metadata": {},
     "output_type": "execute_result"
    }
   ],
   "source": [
    "1"
   ]
  },
  {
   "cell_type": "code",
   "execution_count": 6,
   "id": "bb4cc2a3-c434-403b-8b86-6c9c4e8ae4b1",
   "metadata": {},
   "outputs": [
    {
     "data": {
      "text/plain": [
       "1.0"
      ]
     },
     "execution_count": 6,
     "metadata": {},
     "output_type": "execute_result"
    }
   ],
   "source": [
    "1.0"
   ]
  },
  {
   "cell_type": "markdown",
   "id": "b2154e14-b99b-4564-a5bc-3809ea5181ae",
   "metadata": {},
   "source": [
    "1 + 1 "
   ]
  },
  {
   "cell_type": "code",
   "execution_count": 9,
   "id": "d953db84-c3fb-4583-a6d2-e9781ee8741c",
   "metadata": {},
   "outputs": [
    {
     "data": {
      "text/plain": [
       "2"
      ]
     },
     "execution_count": 9,
     "metadata": {},
     "output_type": "execute_result"
    }
   ],
   "source": [
    "1+1"
   ]
  },
  {
   "cell_type": "code",
   "execution_count": 11,
   "id": "32ac0f86-999e-493f-b61f-34d06fc0b03e",
   "metadata": {},
   "outputs": [
    {
     "data": {
      "text/plain": [
       "2"
      ]
     },
     "execution_count": 11,
     "metadata": {},
     "output_type": "execute_result"
    }
   ],
   "source": [
    "1 + 1"
   ]
  },
  {
   "cell_type": "code",
   "execution_count": 13,
   "id": "21097e9d-1175-4ae1-975b-a0604372f731",
   "metadata": {},
   "outputs": [
    {
     "data": {
      "text/plain": [
       "3"
      ]
     },
     "execution_count": 13,
     "metadata": {},
     "output_type": "execute_result"
    }
   ],
   "source": [
    "1 * 3"
   ]
  },
  {
   "cell_type": "code",
   "execution_count": 15,
   "id": "a13489d3-6ff7-4dfb-b2a0-2a87afff25b5",
   "metadata": {},
   "outputs": [
    {
     "data": {
      "text/plain": [
       "0.5"
      ]
     },
     "execution_count": 15,
     "metadata": {},
     "output_type": "execute_result"
    }
   ],
   "source": [
    "1 / 2"
   ]
  },
  {
   "cell_type": "code",
   "execution_count": 17,
   "id": "8e710ea9-f182-4930-8b05-923f813654f0",
   "metadata": {},
   "outputs": [
    {
     "data": {
      "text/plain": [
       "6"
      ]
     },
     "execution_count": 17,
     "metadata": {},
     "output_type": "execute_result"
    }
   ],
   "source": [
    "2 ^ 4"
   ]
  },
  {
   "cell_type": "code",
   "execution_count": 19,
   "id": "cf574fb9-4be2-4d30-bd0d-8b01d13e961d",
   "metadata": {},
   "outputs": [
    {
     "data": {
      "text/plain": [
       "16"
      ]
     },
     "execution_count": 19,
     "metadata": {},
     "output_type": "execute_result"
    }
   ],
   "source": [
    "2 ** 4"
   ]
  },
  {
   "cell_type": "code",
   "execution_count": 21,
   "id": "0dc5ddf3-0da9-413b-9621-ac89cf562807",
   "metadata": {},
   "outputs": [
    {
     "data": {
      "text/plain": [
       "22"
      ]
     },
     "execution_count": 21,
     "metadata": {},
     "output_type": "execute_result"
    }
   ],
   "source": [
    "2 + 3 * 5 + 5"
   ]
  },
  {
   "cell_type": "code",
   "execution_count": 23,
   "id": "de4dcbea-2155-41e4-af3c-e16c991d0559",
   "metadata": {},
   "outputs": [
    {
     "data": {
      "text/plain": [
       "50"
      ]
     },
     "execution_count": 23,
     "metadata": {},
     "output_type": "execute_result"
    }
   ],
   "source": [
    "(2+3) * (5+5)"
   ]
  },
  {
   "cell_type": "code",
   "execution_count": 25,
   "id": "3c0fd095-2c7a-45e5-8741-80980e19f388",
   "metadata": {},
   "outputs": [
    {
     "data": {
      "text/plain": [
       "0"
      ]
     },
     "execution_count": 25,
     "metadata": {},
     "output_type": "execute_result"
    }
   ],
   "source": [
    "4 % 2"
   ]
  },
  {
   "cell_type": "code",
   "execution_count": 27,
   "id": "b02954da-00f0-4168-b1f0-c2785a0b4cca",
   "metadata": {},
   "outputs": [
    {
     "data": {
      "text/plain": [
       "1"
      ]
     },
     "execution_count": 27,
     "metadata": {},
     "output_type": "execute_result"
    }
   ],
   "source": [
    "5 % 2"
   ]
  },
  {
   "cell_type": "code",
   "execution_count": 29,
   "id": "7cbf10a3-eeb8-4252-a329-0e73c2791b44",
   "metadata": {},
   "outputs": [
    {
     "data": {
      "text/plain": [
       "0"
      ]
     },
     "execution_count": 29,
     "metadata": {},
     "output_type": "execute_result"
    }
   ],
   "source": [
    "8 % 2"
   ]
  },
  {
   "cell_type": "code",
   "execution_count": 31,
   "id": "58074806-4a72-4033-884f-525782c64342",
   "metadata": {},
   "outputs": [],
   "source": [
    "var = 2"
   ]
  },
  {
   "cell_type": "code",
   "execution_count": 33,
   "id": "66434606-70bd-41af-bc26-c7cb363263a9",
   "metadata": {},
   "outputs": [
    {
     "data": {
      "text/plain": [
       "2"
      ]
     },
     "execution_count": 33,
     "metadata": {},
     "output_type": "execute_result"
    }
   ],
   "source": [
    " var"
   ]
  },
  {
   "cell_type": "code",
   "execution_count": 35,
   "id": "11ea1862-9818-42b9-8985-0ffbef260843",
   "metadata": {},
   "outputs": [],
   "source": [
    "x = 2\n",
    "y = 3"
   ]
  },
  {
   "cell_type": "code",
   "execution_count": 37,
   "id": "788e0126-6ad5-4741-9b92-592d98f07599",
   "metadata": {},
   "outputs": [
    {
     "data": {
      "text/plain": [
       "5"
      ]
     },
     "execution_count": 37,
     "metadata": {},
     "output_type": "execute_result"
    }
   ],
   "source": [
    "x + y"
   ]
  },
  {
   "cell_type": "code",
   "execution_count": 39,
   "id": "99f2b8ce-c665-436a-90ce-3ec7b597e050",
   "metadata": {},
   "outputs": [],
   "source": [
    "x = x+x"
   ]
  },
  {
   "cell_type": "code",
   "execution_count": 41,
   "id": "a07e46dd-f515-4f04-965f-14e6719f77bc",
   "metadata": {},
   "outputs": [
    {
     "data": {
      "text/plain": [
       "4"
      ]
     },
     "execution_count": 41,
     "metadata": {},
     "output_type": "execute_result"
    }
   ],
   "source": [
    "x"
   ]
  },
  {
   "cell_type": "code",
   "execution_count": 43,
   "id": "ce140825-a935-458f-a325-2014fa2a75bf",
   "metadata": {},
   "outputs": [
    {
     "ename": "SyntaxError",
     "evalue": "invalid decimal literal (1549529249.py, line 1)",
     "output_type": "error",
     "traceback": [
      "\u001b[1;36m  Cell \u001b[1;32mIn[43], line 1\u001b[1;36m\u001b[0m\n\u001b[1;33m    12var = 12\u001b[0m\n\u001b[1;37m     ^\u001b[0m\n\u001b[1;31mSyntaxError\u001b[0m\u001b[1;31m:\u001b[0m invalid decimal literal\n"
     ]
    }
   ],
   "source": [
    "12var = 12"
   ]
  },
  {
   "cell_type": "code",
   "execution_count": 47,
   "id": "d99e5774-243d-4643-b0c4-f04267dae976",
   "metadata": {},
   "outputs": [
    {
     "name": "stderr",
     "output_type": "stream",
     "text": [
      "'2' is not recognized as an internal or external command,\n",
      "operable program or batch file.\n"
     ]
    }
   ],
   "source": [
    "!$var = 1"
   ]
  },
  {
   "cell_type": "code",
   "execution_count": 49,
   "id": "be2a8c3f-113c-466c-8184-b3e7fe839108",
   "metadata": {},
   "outputs": [],
   "source": [
    "name_of_var = 12"
   ]
  },
  {
   "cell_type": "code",
   "execution_count": 51,
   "id": "ca81667b-b817-497d-84d1-f4a4e7cdd3c0",
   "metadata": {},
   "outputs": [],
   "source": [
    "# Strings"
   ]
  },
  {
   "cell_type": "code",
   "execution_count": 53,
   "id": "25859bed-8153-4744-8a52-4bde3ef45e2c",
   "metadata": {},
   "outputs": [
    {
     "data": {
      "text/plain": [
       "' single quote '"
      ]
     },
     "execution_count": 53,
     "metadata": {},
     "output_type": "execute_result"
    }
   ],
   "source": [
    "' single quote '"
   ]
  },
  {
   "cell_type": "code",
   "execution_count": 55,
   "id": "f88b394c-7c0a-46b7-a110-8cc0f3346b3f",
   "metadata": {},
   "outputs": [
    {
     "data": {
      "text/plain": [
       "'this is a string'"
      ]
     },
     "execution_count": 55,
     "metadata": {},
     "output_type": "execute_result"
    }
   ],
   "source": [
    "\"this is a string\""
   ]
  },
  {
   "cell_type": "code",
   "execution_count": 57,
   "id": "c0163497-9fd4-436b-b0cd-a3947a26cc90",
   "metadata": {},
   "outputs": [
    {
     "data": {
      "text/plain": [
       "\"I can't go\""
      ]
     },
     "execution_count": 57,
     "metadata": {},
     "output_type": "execute_result"
    }
   ],
   "source": [
    "\"I can't go\""
   ]
  },
  {
   "cell_type": "code",
   "execution_count": 59,
   "id": "1ab0b1e1-a694-4601-b3ea-c623a7f337c5",
   "metadata": {},
   "outputs": [],
   "source": [
    "x = 'hello'"
   ]
  },
  {
   "cell_type": "code",
   "execution_count": 61,
   "id": "3c1b1347-0c61-4ac0-b47f-53bbc26680e5",
   "metadata": {},
   "outputs": [
    {
     "data": {
      "text/plain": [
       "'hello'"
      ]
     },
     "execution_count": 61,
     "metadata": {},
     "output_type": "execute_result"
    }
   ],
   "source": [
    "x"
   ]
  },
  {
   "cell_type": "code",
   "execution_count": 63,
   "id": "db7d4590-0975-42d3-a716-c7b81391d97c",
   "metadata": {},
   "outputs": [
    {
     "name": "stdout",
     "output_type": "stream",
     "text": [
      "hello\n"
     ]
    }
   ],
   "source": [
    "print(x)"
   ]
  },
  {
   "cell_type": "code",
   "execution_count": 65,
   "id": "53c26b17-5e6d-4edf-bdb3-4483ee33f646",
   "metadata": {},
   "outputs": [],
   "source": [
    "num = 12\n",
    "name = 'Sam'"
   ]
  },
  {
   "cell_type": "code",
   "execution_count": 67,
   "id": "ac561734-c648-4bb2-814a-0a3471be47bd",
   "metadata": {},
   "outputs": [
    {
     "name": "stdout",
     "output_type": "stream",
     "text": [
      "My number is 12 and my name is Sam\n"
     ]
    }
   ],
   "source": [
    "print('My number is {} and my name is {}'.format(num,name))"
   ]
  },
  {
   "cell_type": "code",
   "execution_count": 5,
   "id": "08d6190d-6bc6-468b-b287-c716e37d18f4",
   "metadata": {},
   "outputs": [],
   "source": [
    "num = 12\n",
    "name = \"Sam\""
   ]
  },
  {
   "cell_type": "code",
   "execution_count": 9,
   "id": "f00510f0-dd8e-429b-b95d-e5b1e338d4a3",
   "metadata": {},
   "outputs": [
    {
     "name": "stdout",
     "output_type": "stream",
     "text": [
      "My name is Sam and my number is 12, don't forget my name is Sam\n"
     ]
    }
   ],
   "source": [
    "print(\"My name is {one} and my number is {two}, don't forget my name is {one}\".format(one=name,two=num))"
   ]
  },
  {
   "cell_type": "code",
   "execution_count": 11,
   "id": "52733e24-2166-44ff-a4bc-707cb0233f3d",
   "metadata": {},
   "outputs": [],
   "source": [
    "t = \"Olatunji\""
   ]
  },
  {
   "cell_type": "code",
   "execution_count": 13,
   "id": "cd74f91b-d470-449c-a912-4d039d9ce819",
   "metadata": {},
   "outputs": [
    {
     "data": {
      "text/plain": [
       "'O'"
      ]
     },
     "execution_count": 13,
     "metadata": {},
     "output_type": "execute_result"
    }
   ],
   "source": [
    "t[0]"
   ]
  },
  {
   "cell_type": "code",
   "execution_count": 15,
   "id": "6c6c0113-77d2-4646-9fc6-561f23bab007",
   "metadata": {},
   "outputs": [
    {
     "data": {
      "text/plain": [
       "'i'"
      ]
     },
     "execution_count": 15,
     "metadata": {},
     "output_type": "execute_result"
    }
   ],
   "source": [
    "t[7]"
   ]
  },
  {
   "cell_type": "code",
   "execution_count": 23,
   "id": "65c8f2f3-558f-4081-896b-8bb344e62517",
   "metadata": {},
   "outputs": [
    {
     "data": {
      "text/plain": [
       "'Olatunji'"
      ]
     },
     "execution_count": 23,
     "metadata": {},
     "output_type": "execute_result"
    }
   ],
   "source": [
    "t[0:]"
   ]
  },
  {
   "cell_type": "code",
   "execution_count": 25,
   "id": "a1737ccb-e37c-4724-bad8-b1430468f03b",
   "metadata": {},
   "outputs": [
    {
     "data": {
      "text/plain": [
       "'Olatun'"
      ]
     },
     "execution_count": 25,
     "metadata": {},
     "output_type": "execute_result"
    }
   ],
   "source": [
    "t[:6]"
   ]
  },
  {
   "cell_type": "code",
   "execution_count": 31,
   "id": "2bf82999-8d15-48c4-8495-0311667bc4f8",
   "metadata": {},
   "outputs": [
    {
     "data": {
      "text/plain": [
       "'lat'"
      ]
     },
     "execution_count": 31,
     "metadata": {},
     "output_type": "execute_result"
    }
   ],
   "source": [
    "t[1:4]"
   ]
  },
  {
   "cell_type": "code",
   "execution_count": 33,
   "id": "94e8e38e-51a5-4a40-b616-39dae65d06fe",
   "metadata": {},
   "outputs": [
    {
     "data": {
      "text/plain": [
       "[1, 2, 3]"
      ]
     },
     "execution_count": 33,
     "metadata": {},
     "output_type": "execute_result"
    }
   ],
   "source": [
    "[1,2,3]"
   ]
  },
  {
   "cell_type": "code",
   "execution_count": 35,
   "id": "d07600a3-b268-430a-9694-2710e75f187c",
   "metadata": {},
   "outputs": [
    {
     "data": {
      "text/plain": [
       "['a', 'b', 'c']"
      ]
     },
     "execution_count": 35,
     "metadata": {},
     "output_type": "execute_result"
    }
   ],
   "source": [
    "['a','b','c']"
   ]
  },
  {
   "cell_type": "code",
   "execution_count": 37,
   "id": "e8e0f3a5-9cb4-4850-a8d9-c2347adbeb7d",
   "metadata": {},
   "outputs": [],
   "source": [
    "my_list = ['a','b','c']"
   ]
  },
  {
   "cell_type": "code",
   "execution_count": 39,
   "id": "c031fd9a-b156-4da9-af50-fd228da4b733",
   "metadata": {},
   "outputs": [],
   "source": [
    "my_list.append('d')"
   ]
  },
  {
   "cell_type": "code",
   "execution_count": 41,
   "id": "2b32a6b4-5844-4b19-9ee0-bf897ed18747",
   "metadata": {},
   "outputs": [
    {
     "data": {
      "text/plain": [
       "['a', 'b', 'c', 'd']"
      ]
     },
     "execution_count": 41,
     "metadata": {},
     "output_type": "execute_result"
    }
   ],
   "source": [
    "my_list"
   ]
  },
  {
   "cell_type": "code",
   "execution_count": 43,
   "id": "51b5c6d8-507b-4557-9c21-f0ea0545df98",
   "metadata": {},
   "outputs": [
    {
     "data": {
      "text/plain": [
       "'a'"
      ]
     },
     "execution_count": 43,
     "metadata": {},
     "output_type": "execute_result"
    }
   ],
   "source": [
    "my_list[0]"
   ]
  },
  {
   "cell_type": "code",
   "execution_count": 45,
   "id": "eb41eefa-0168-4a21-82f3-0b73c6447159",
   "metadata": {},
   "outputs": [
    {
     "data": {
      "text/plain": [
       "['b', 'c']"
      ]
     },
     "execution_count": 45,
     "metadata": {},
     "output_type": "execute_result"
    }
   ],
   "source": [
    "my_list[1:3]"
   ]
  },
  {
   "cell_type": "code",
   "execution_count": 47,
   "id": "bc90649a-f15d-48bb-92d9-7df168f9721b",
   "metadata": {},
   "outputs": [],
   "source": [
    "my_list[0] = 'NEW'"
   ]
  },
  {
   "cell_type": "code",
   "execution_count": 49,
   "id": "c81ec557-84af-4206-8f4d-03ca753d42fe",
   "metadata": {},
   "outputs": [
    {
     "data": {
      "text/plain": [
       "['NEW', 'b', 'c', 'd']"
      ]
     },
     "execution_count": 49,
     "metadata": {},
     "output_type": "execute_result"
    }
   ],
   "source": [
    "my_list"
   ]
  },
  {
   "cell_type": "code",
   "execution_count": 51,
   "id": "60a6b7b6-912a-4145-aa93-8647df6100c1",
   "metadata": {},
   "outputs": [],
   "source": [
    "nest = [1,2,[3,4]]"
   ]
  },
  {
   "cell_type": "code",
   "execution_count": 53,
   "id": "c475aab4-9811-4d2b-bc74-6e5b4d1d1903",
   "metadata": {},
   "outputs": [
    {
     "data": {
      "text/plain": [
       "[1, 2, [3, 4]]"
      ]
     },
     "execution_count": 53,
     "metadata": {},
     "output_type": "execute_result"
    }
   ],
   "source": [
    "nest"
   ]
  },
  {
   "cell_type": "code",
   "execution_count": 61,
   "id": "f2323287-3d2c-4455-b0be-662e8323498d",
   "metadata": {},
   "outputs": [
    {
     "data": {
      "text/plain": [
       "4"
      ]
     },
     "execution_count": 61,
     "metadata": {},
     "output_type": "execute_result"
    }
   ],
   "source": [
    "nest[2][1]"
   ]
  },
  {
   "cell_type": "raw",
   "id": "941b9857-8f3d-44df-8ca9-f44ed8c8e6cb",
   "metadata": {},
   "source": []
  },
  {
   "cell_type": "code",
   "execution_count": 65,
   "id": "cf3d377e-87cb-420e-bccc-2275dee19006",
   "metadata": {},
   "outputs": [
    {
     "ename": "IndexError",
     "evalue": "list index out of range",
     "output_type": "error",
     "traceback": [
      "\u001b[1;31m---------------------------------------------------------------------------\u001b[0m",
      "\u001b[1;31mIndexError\u001b[0m                                Traceback (most recent call last)",
      "Cell \u001b[1;32mIn[65], line 1\u001b[0m\n\u001b[1;32m----> 1\u001b[0m nest[\u001b[38;5;241m3\u001b[39m]\n",
      "\u001b[1;31mIndexError\u001b[0m: list index out of range"
     ]
    }
   ],
   "source": [
    "nest[3]"
   ]
  },
  {
   "cell_type": "code",
   "execution_count": 67,
   "id": "eb6192e6-1796-42e7-9f2d-40faa59041f1",
   "metadata": {},
   "outputs": [],
   "source": [
    "nest = [1,2,3,[4,5,['target']]]"
   ]
  },
  {
   "cell_type": "code",
   "execution_count": 75,
   "id": "7595940a-4530-4be8-8b67-203b681a30b9",
   "metadata": {},
   "outputs": [
    {
     "name": "stdout",
     "output_type": "stream",
     "text": [
      "target\n"
     ]
    }
   ],
   "source": [
    "print(nest[3][2][0])"
   ]
  },
  {
   "cell_type": "code",
   "execution_count": 77,
   "id": "740bbb00-a967-481b-9197-e3c1405aa3ec",
   "metadata": {},
   "outputs": [],
   "source": [
    "d = {'key1':'value', 'key2':123}"
   ]
  },
  {
   "cell_type": "code",
   "execution_count": 81,
   "id": "d7a39ae8-7c0a-4220-9969-39f0c9adb892",
   "metadata": {},
   "outputs": [
    {
     "data": {
      "text/plain": [
       "'value'"
      ]
     },
     "execution_count": 81,
     "metadata": {},
     "output_type": "execute_result"
    }
   ],
   "source": [
    "d['key1']"
   ]
  },
  {
   "cell_type": "code",
   "execution_count": 83,
   "id": "bb6d5247-371a-4a96-8bbe-b0136a9d218d",
   "metadata": {},
   "outputs": [
    {
     "name": "stdout",
     "output_type": "stream",
     "text": [
      "123\n"
     ]
    }
   ],
   "source": [
    "print(d['key2'])"
   ]
  },
  {
   "cell_type": "code",
   "execution_count": 85,
   "id": "abed0725-4edc-4558-b302-612cc198dc00",
   "metadata": {},
   "outputs": [],
   "source": [
    "d = {'k1':[1,2,3]}"
   ]
  },
  {
   "cell_type": "code",
   "execution_count": 89,
   "id": "c6f36d65-bbe6-44f5-bf54-7b414ca96dfd",
   "metadata": {},
   "outputs": [
    {
     "data": {
      "text/plain": [
       "2"
      ]
     },
     "execution_count": 89,
     "metadata": {},
     "output_type": "execute_result"
    }
   ],
   "source": [
    "d['k1'][1]"
   ]
  },
  {
   "cell_type": "code",
   "execution_count": 91,
   "id": "54e6cc28-3740-4775-a168-8a69f529fd06",
   "metadata": {},
   "outputs": [],
   "source": [
    "my_list = d['k1']"
   ]
  },
  {
   "cell_type": "code",
   "execution_count": 93,
   "id": "5d7ecb3c-d97d-46ab-9b5d-c9e1b4a6f183",
   "metadata": {},
   "outputs": [
    {
     "data": {
      "text/plain": [
       "1"
      ]
     },
     "execution_count": 93,
     "metadata": {},
     "output_type": "execute_result"
    }
   ],
   "source": [
    "my_list[0]"
   ]
  },
  {
   "cell_type": "code",
   "execution_count": 97,
   "id": "6c0eb2c8-9b60-41fd-9f11-13cd8ebb15ff",
   "metadata": {},
   "outputs": [],
   "source": [
    "d = {'k1':{'innerkey':[1,2,3]}}"
   ]
  },
  {
   "cell_type": "code",
   "execution_count": 101,
   "id": "ede5faea-76c9-40b9-8130-6d4c488e3d2f",
   "metadata": {},
   "outputs": [
    {
     "data": {
      "text/plain": [
       "2"
      ]
     },
     "execution_count": 101,
     "metadata": {},
     "output_type": "execute_result"
    }
   ],
   "source": [
    "d['k1']['innerkey'][1]"
   ]
  },
  {
   "cell_type": "code",
   "execution_count": 103,
   "id": "3ca28357-a589-4615-b405-738a1f06c0ce",
   "metadata": {},
   "outputs": [
    {
     "data": {
      "text/plain": [
       "True"
      ]
     },
     "execution_count": 103,
     "metadata": {},
     "output_type": "execute_result"
    }
   ],
   "source": [
    "True"
   ]
  },
  {
   "cell_type": "code",
   "execution_count": 105,
   "id": "087e9dbe-bf1d-4448-97ad-7d9e7fd148de",
   "metadata": {},
   "outputs": [
    {
     "data": {
      "text/plain": [
       "False"
      ]
     },
     "execution_count": 105,
     "metadata": {},
     "output_type": "execute_result"
    }
   ],
   "source": [
    "False"
   ]
  },
  {
   "cell_type": "code",
   "execution_count": 109,
   "id": "bfd6f75b-01c5-4536-a26b-280b58bffbcf",
   "metadata": {},
   "outputs": [],
   "source": [
    "my_list = [1,2,3]"
   ]
  },
  {
   "cell_type": "code",
   "execution_count": 111,
   "id": "01633ef0-c0e1-4e1c-af39-e5d92c05756d",
   "metadata": {},
   "outputs": [
    {
     "data": {
      "text/plain": [
       "1"
      ]
     },
     "execution_count": 111,
     "metadata": {},
     "output_type": "execute_result"
    }
   ],
   "source": [
    "my_list[0]"
   ]
  },
  {
   "cell_type": "code",
   "execution_count": 113,
   "id": "55098592-33bd-4731-882f-ac0856ff6513",
   "metadata": {},
   "outputs": [],
   "source": [
    "t = (1,2,3)"
   ]
  },
  {
   "cell_type": "code",
   "execution_count": 115,
   "id": "fc839da8-1139-4965-9a3b-9ac5af265f00",
   "metadata": {},
   "outputs": [
    {
     "data": {
      "text/plain": [
       "1"
      ]
     },
     "execution_count": 115,
     "metadata": {},
     "output_type": "execute_result"
    }
   ],
   "source": [
    "t[0]"
   ]
  },
  {
   "cell_type": "code",
   "execution_count": 123,
   "id": "e37e38e4-3102-4e03-adcb-5dbaa8342af4",
   "metadata": {},
   "outputs": [],
   "source": [
    "my_list[0] = 'NEW'"
   ]
  },
  {
   "cell_type": "code",
   "execution_count": 125,
   "id": "63114fb5-9f7d-43ad-9680-01f5c6ae9039",
   "metadata": {},
   "outputs": [
    {
     "data": {
      "text/plain": [
       "['NEW', 2, 3]"
      ]
     },
     "execution_count": 125,
     "metadata": {},
     "output_type": "execute_result"
    }
   ],
   "source": [
    "my_list"
   ]
  },
  {
   "cell_type": "code",
   "execution_count": 127,
   "id": "4eadfb2b-706d-42b1-bfa5-aee8776380b4",
   "metadata": {},
   "outputs": [],
   "source": [
    "# with list you can re-assign variables but not with tuples"
   ]
  },
  {
   "cell_type": "code",
   "execution_count": 129,
   "id": "a3df2717-772f-446d-80c2-22076f8c86e2",
   "metadata": {},
   "outputs": [
    {
     "ename": "TypeError",
     "evalue": "'tuple' object does not support item assignment",
     "output_type": "error",
     "traceback": [
      "\u001b[1;31m---------------------------------------------------------------------------\u001b[0m",
      "\u001b[1;31mTypeError\u001b[0m                                 Traceback (most recent call last)",
      "Cell \u001b[1;32mIn[129], line 1\u001b[0m\n\u001b[1;32m----> 1\u001b[0m t[\u001b[38;5;241m0\u001b[39m] \u001b[38;5;241m=\u001b[39m \u001b[38;5;124m'\u001b[39m\u001b[38;5;124mNEW\u001b[39m\u001b[38;5;124m'\u001b[39m\n",
      "\u001b[1;31mTypeError\u001b[0m: 'tuple' object does not support item assignment"
     ]
    }
   ],
   "source": [
    "t[0] = 'NEW'"
   ]
  },
  {
   "cell_type": "code",
   "execution_count": 1,
   "id": "2640cf06-0d9c-4d60-a9e6-f344681f071d",
   "metadata": {},
   "outputs": [
    {
     "data": {
      "text/plain": [
       "{1, 2, 3}"
      ]
     },
     "execution_count": 1,
     "metadata": {},
     "output_type": "execute_result"
    }
   ],
   "source": [
    "{1,2,3}"
   ]
  },
  {
   "cell_type": "code",
   "execution_count": 3,
   "id": "67c7e2a1-aff2-4ffc-91c4-e3878caea935",
   "metadata": {},
   "outputs": [
    {
     "data": {
      "text/plain": [
       "{1, 2, 3}"
      ]
     },
     "execution_count": 3,
     "metadata": {},
     "output_type": "execute_result"
    }
   ],
   "source": [
    "{1,1,1,2,2,2,3,3,3}"
   ]
  },
  {
   "cell_type": "code",
   "execution_count": 5,
   "id": "df4bfdf9-3d24-493b-9699-a194cabd989e",
   "metadata": {},
   "outputs": [
    {
     "data": {
      "text/plain": [
       "{1, 2, 5, 6}"
      ]
     },
     "execution_count": 5,
     "metadata": {},
     "output_type": "execute_result"
    }
   ],
   "source": [
    "set([1,1,1,1,2,2,2,5,5,5,6,6,6])"
   ]
  },
  {
   "cell_type": "code",
   "execution_count": 7,
   "id": "443b1002-8f27-44f0-b2c7-4c7e745873e4",
   "metadata": {},
   "outputs": [],
   "source": [
    "s = {1,2,3}"
   ]
  },
  {
   "cell_type": "code",
   "execution_count": 9,
   "id": "6c79b697-fa45-4ba3-ab81-ebc3b7143902",
   "metadata": {},
   "outputs": [],
   "source": [
    "# you use add for set and append for list"
   ]
  },
  {
   "cell_type": "code",
   "execution_count": 11,
   "id": "02869b45-c89d-4dd5-9bad-793da9696b59",
   "metadata": {},
   "outputs": [],
   "source": [
    "s.add(5)"
   ]
  },
  {
   "cell_type": "code",
   "execution_count": 13,
   "id": "d35d9b8f-ef0e-4194-bf25-97fe7e32a0f0",
   "metadata": {},
   "outputs": [
    {
     "data": {
      "text/plain": [
       "{1, 2, 3, 5}"
      ]
     },
     "execution_count": 13,
     "metadata": {},
     "output_type": "execute_result"
    }
   ],
   "source": [
    "s"
   ]
  },
  {
   "cell_type": "code",
   "execution_count": 15,
   "id": "144c8950-b13d-4c67-b476-0b67e2a1f7ee",
   "metadata": {},
   "outputs": [],
   "source": [
    "s.add(5)"
   ]
  },
  {
   "cell_type": "code",
   "execution_count": 17,
   "id": "a151470d-1cb7-44b0-b9bc-5bfff3db2df2",
   "metadata": {},
   "outputs": [
    {
     "data": {
      "text/plain": [
       "{1, 2, 3, 5}"
      ]
     },
     "execution_count": 17,
     "metadata": {},
     "output_type": "execute_result"
    }
   ],
   "source": [
    "s"
   ]
  },
  {
   "cell_type": "code",
   "execution_count": null,
   "id": "f32bb36d-0a11-46b7-81dc-775ebcc18613",
   "metadata": {},
   "outputs": [],
   "source": []
  },
  {
   "cell_type": "code",
   "execution_count": 20,
   "id": "c2d68e12-6e6d-4551-9fad-59b2ee07e59e",
   "metadata": {},
   "outputs": [
    {
     "data": {
      "text/plain": [
       "False"
      ]
     },
     "execution_count": 20,
     "metadata": {},
     "output_type": "execute_result"
    }
   ],
   "source": [
    "1 > 2"
   ]
  },
  {
   "cell_type": "code",
   "execution_count": 22,
   "id": "5e99981b-5324-4616-b29a-23441c36cfed",
   "metadata": {},
   "outputs": [
    {
     "data": {
      "text/plain": [
       "True"
      ]
     },
     "execution_count": 22,
     "metadata": {},
     "output_type": "execute_result"
    }
   ],
   "source": [
    "1 < 2"
   ]
  },
  {
   "cell_type": "code",
   "execution_count": 24,
   "id": "72007ac3-e90e-4a83-96e0-253ffb47f000",
   "metadata": {},
   "outputs": [],
   "source": [
    "# <,>,= are comparison operators"
   ]
  },
  {
   "cell_type": "code",
   "execution_count": 26,
   "id": "2a01b38e-66b5-4a59-ba4d-eaf364ded970",
   "metadata": {},
   "outputs": [
    {
     "data": {
      "text/plain": [
       "True"
      ]
     },
     "execution_count": 26,
     "metadata": {},
     "output_type": "execute_result"
    }
   ],
   "source": [
    "1>= 1"
   ]
  },
  {
   "cell_type": "code",
   "execution_count": 28,
   "id": "84eb60c9-1d29-49c5-8451-ce7ae2e75a26",
   "metadata": {},
   "outputs": [
    {
     "data": {
      "text/plain": [
       "True"
      ]
     },
     "execution_count": 28,
     "metadata": {},
     "output_type": "execute_result"
    }
   ],
   "source": [
    "1 == 1"
   ]
  },
  {
   "cell_type": "code",
   "execution_count": 32,
   "id": "d08401d9-e02a-46f4-b0bf-ffc70f5a85c9",
   "metadata": {},
   "outputs": [
    {
     "data": {
      "text/plain": [
       "False"
      ]
     },
     "execution_count": 32,
     "metadata": {},
     "output_type": "execute_result"
    }
   ],
   "source": [
    "1 == 2"
   ]
  },
  {
   "cell_type": "code",
   "execution_count": 34,
   "id": "727b0640-2c85-4346-932a-a3818d93f191",
   "metadata": {},
   "outputs": [
    {
     "data": {
      "text/plain": [
       "True"
      ]
     },
     "execution_count": 34,
     "metadata": {},
     "output_type": "execute_result"
    }
   ],
   "source": [
    "1 != 3"
   ]
  },
  {
   "cell_type": "code",
   "execution_count": 36,
   "id": "61302c4e-54a1-4916-97d6-ac0c2de6da2c",
   "metadata": {},
   "outputs": [
    {
     "data": {
      "text/plain": [
       "False"
      ]
     },
     "execution_count": 36,
     "metadata": {},
     "output_type": "execute_result"
    }
   ],
   "source": [
    "'hi' == 'bye'"
   ]
  },
  {
   "cell_type": "code",
   "execution_count": 38,
   "id": "631505ef-b9bd-4dd6-8632-69f087690c62",
   "metadata": {},
   "outputs": [
    {
     "data": {
      "text/plain": [
       "True"
      ]
     },
     "execution_count": 38,
     "metadata": {},
     "output_type": "execute_result"
    }
   ],
   "source": [
    "'hi' != 'bye'"
   ]
  },
  {
   "cell_type": "code",
   "execution_count": 44,
   "id": "f4d4add2-e031-422b-a3a2-52c9b6bc6516",
   "metadata": {},
   "outputs": [
    {
     "data": {
      "text/plain": [
       "False"
      ]
     },
     "execution_count": 44,
     "metadata": {},
     "output_type": "execute_result"
    }
   ],
   "source": [
    "(1 < 2) and (2 > 3)"
   ]
  },
  {
   "cell_type": "code",
   "execution_count": 46,
   "id": "10793156-268a-49f9-8cae-1009e72b79fb",
   "metadata": {},
   "outputs": [],
   "source": [
    "# logical operators are AND,OR"
   ]
  },
  {
   "cell_type": "code",
   "execution_count": 48,
   "id": "0075a1d4-d4f3-4b2f-a901-3a8468bc7709",
   "metadata": {},
   "outputs": [
    {
     "data": {
      "text/plain": [
       "True"
      ]
     },
     "execution_count": 48,
     "metadata": {},
     "output_type": "execute_result"
    }
   ],
   "source": [
    "(1 < 2) or (2 > 3) or ( 1 == 1)"
   ]
  },
  {
   "cell_type": "code",
   "execution_count": 54,
   "id": "edadb8f2-db1f-469c-bd6e-9f13038a5798",
   "metadata": {},
   "outputs": [
    {
     "data": {
      "text/plain": [
       "True"
      ]
     },
     "execution_count": 54,
     "metadata": {},
     "output_type": "execute_result"
    }
   ],
   "source": [
    "True or False\n"
   ]
  },
  {
   "cell_type": "code",
   "execution_count": 60,
   "id": "f27f0568-7f09-4d27-a8d9-e1fcd1b84a24",
   "metadata": {},
   "outputs": [
    {
     "name": "stdout",
     "output_type": "stream",
     "text": [
      "yep!\n"
     ]
    }
   ],
   "source": [
    "if 1<2:\n",
    "    print('yep!')"
   ]
  },
  {
   "cell_type": "code",
   "execution_count": 65,
   "id": "7645d675-721d-48d5-a391-22f2e7183445",
   "metadata": {},
   "outputs": [
    {
     "name": "stdout",
     "output_type": "stream",
     "text": [
      "Perform Code\n"
     ]
    }
   ],
   "source": [
    "if True:\n",
    "    print('Perform Code')"
   ]
  },
  {
   "cell_type": "code",
   "execution_count": 71,
   "id": "89f05441-40e6-4ea1-8a87-be2d118c6457",
   "metadata": {},
   "outputs": [],
   "source": [
    "if True:\n",
    "    x = 2 + 2"
   ]
  },
  {
   "cell_type": "code",
   "execution_count": 73,
   "id": "84a2db93-e5d4-4eb3-a601-9e6996aab8dc",
   "metadata": {},
   "outputs": [
    {
     "data": {
      "text/plain": [
       "4"
      ]
     },
     "execution_count": 73,
     "metadata": {},
     "output_type": "execute_result"
    }
   ],
   "source": [
    "x"
   ]
  },
  {
   "cell_type": "code",
   "execution_count": 93,
   "id": "787925b0-1805-4044-9d3e-cf1e76f51392",
   "metadata": {},
   "outputs": [
    {
     "name": "stdout",
     "output_type": "stream",
     "text": [
      "second\n"
     ]
    }
   ],
   "source": [
    "if 1 == 2:\n",
    "    print('First')\n",
    "elif 4 == 4:\n",
    "    print('second')\n",
    "elif 3 == 3:\n",
    "    print('Middle')\n",
    "else:\n",
    "    print('last')"
   ]
  },
  {
   "cell_type": "code",
   "execution_count": 95,
   "id": "a0a3fdb6-1bb1-4f4a-9ff4-7c5124850498",
   "metadata": {},
   "outputs": [],
   "source": [
    "seq = [1,2,3,4,5]"
   ]
  },
  {
   "cell_type": "code",
   "execution_count": 99,
   "id": "332da7b7-0c7f-4821-803d-d8740fd60c6c",
   "metadata": {},
   "outputs": [
    {
     "name": "stdout",
     "output_type": "stream",
     "text": [
      "1\n",
      "2\n",
      "3\n",
      "4\n",
      "5\n"
     ]
    }
   ],
   "source": [
    "for space in seq:\n",
    "    print(space)"
   ]
  },
  {
   "cell_type": "code",
   "execution_count": 101,
   "id": "f3f9e0f0-a7c5-4681-9787-85f0df44dacb",
   "metadata": {},
   "outputs": [],
   "source": [
    "# you can use anything, does not necessarily need to be i or item, can be space"
   ]
  },
  {
   "cell_type": "code",
   "execution_count": 105,
   "id": "6513204f-7057-4d86-9544-c7a755d3a222",
   "metadata": {},
   "outputs": [
    {
     "name": "stdout",
     "output_type": "stream",
     "text": [
      "Tobi will make it in Jesus name.Amen🙏\n",
      "Tobi will make it in Jesus name.Amen🙏\n",
      "Tobi will make it in Jesus name.Amen🙏\n",
      "Tobi will make it in Jesus name.Amen🙏\n",
      "Tobi will make it in Jesus name.Amen🙏\n"
     ]
    }
   ],
   "source": [
    "for everything in seq:\n",
    "    print('Tobi will make it in Jesus name.Amen🙏')"
   ]
  },
  {
   "cell_type": "code",
   "execution_count": 11,
   "id": "76b13a51-17be-42ec-b141-21c5df8ebcc9",
   "metadata": {},
   "outputs": [
    {
     "name": "stdout",
     "output_type": "stream",
     "text": [
      "i is: 1\n",
      "i is: 2\n",
      "i is: 3\n",
      "i is: 4\n"
     ]
    }
   ],
   "source": [
    "i = 1\n",
    "while i<5:\n",
    "    print('i is: {}'.format(i))\n",
    "    i = i+1"
   ]
  },
  {
   "cell_type": "code",
   "execution_count": 13,
   "id": "a583f52f-d16b-4620-adec-2721ac4d382a",
   "metadata": {},
   "outputs": [
    {
     "name": "stdout",
     "output_type": "stream",
     "text": [
      "0\n",
      "1\n",
      "2\n",
      "3\n",
      "4\n"
     ]
    }
   ],
   "source": [
    "for x in range(0,5):\n",
    "    print(x)"
   ]
  },
  {
   "cell_type": "code",
   "execution_count": 15,
   "id": "2a29e1a6-7f58-4a43-8dca-c97c6a3d682c",
   "metadata": {},
   "outputs": [
    {
     "data": {
      "text/plain": [
       "[0, 1, 2, 3, 4]"
      ]
     },
     "execution_count": 15,
     "metadata": {},
     "output_type": "execute_result"
    }
   ],
   "source": [
    "list(range(0,5))"
   ]
  },
  {
   "cell_type": "code",
   "execution_count": 17,
   "id": "b2555d47-e4d7-4603-aa3c-5041fb56ef38",
   "metadata": {},
   "outputs": [
    {
     "data": {
      "text/plain": [
       "[0, 1, 2, 3, 4, 5, 6, 7, 8, 9]"
      ]
     },
     "execution_count": 17,
     "metadata": {},
     "output_type": "execute_result"
    }
   ],
   "source": [
    "list(range(10))"
   ]
  },
  {
   "cell_type": "code",
   "execution_count": 19,
   "id": "7b1efc5f-9ecf-42c5-bd5d-ff8bc7cb0943",
   "metadata": {},
   "outputs": [],
   "source": [
    "x = [1,2,3,4]"
   ]
  },
  {
   "cell_type": "code",
   "execution_count": 27,
   "id": "00d4a94d-16c5-4dca-a9b7-08aee8b275d4",
   "metadata": {},
   "outputs": [],
   "source": [
    "out = []\n",
    "for item in x:\n",
    "    out.append(item**2)\n",
    "    "
   ]
  },
  {
   "cell_type": "code",
   "execution_count": 29,
   "id": "5b6d4c75-76ed-4ca8-898b-e75fbaf86220",
   "metadata": {},
   "outputs": [
    {
     "data": {
      "text/plain": [
       "[1, 4, 9, 16]"
      ]
     },
     "execution_count": 29,
     "metadata": {},
     "output_type": "execute_result"
    }
   ],
   "source": [
    "out"
   ]
  },
  {
   "cell_type": "code",
   "execution_count": 31,
   "id": "f88b5c1b-88ad-4ea2-8f81-cb978a73d4dc",
   "metadata": {},
   "outputs": [],
   "source": [
    "# what i am about to write below is called list comprehension"
   ]
  },
  {
   "cell_type": "code",
   "execution_count": 33,
   "id": "aab1f76a-69e9-41b9-8038-d4d0d8728311",
   "metadata": {},
   "outputs": [
    {
     "data": {
      "text/plain": [
       "[1, 4, 9, 16]"
      ]
     },
     "execution_count": 33,
     "metadata": {},
     "output_type": "execute_result"
    }
   ],
   "source": [
    "[item**2 for item in x]"
   ]
  },
  {
   "cell_type": "code",
   "execution_count": 35,
   "id": "42dbd4c6-bfca-4273-8050-46af3b22e587",
   "metadata": {},
   "outputs": [],
   "source": [
    "out = [item**2 for item in x]"
   ]
  },
  {
   "cell_type": "code",
   "execution_count": 37,
   "id": "ea30916a-d97a-4899-80b9-0b9efbf37cc7",
   "metadata": {},
   "outputs": [
    {
     "data": {
      "text/plain": [
       "[1, 4, 9, 16]"
      ]
     },
     "execution_count": 37,
     "metadata": {},
     "output_type": "execute_result"
    }
   ],
   "source": [
    "out"
   ]
  },
  {
   "cell_type": "code",
   "execution_count": 59,
   "id": "f71e3456-1657-4a45-8fd5-9a0b786642a1",
   "metadata": {},
   "outputs": [],
   "source": [
    "def my_func(param1='Thank you Lord for giving Tobi Olatunji 200 lvl comp eng 5.0'):\n",
    "    print(param1 + ' in Jesus name')"
   ]
  },
  {
   "cell_type": "code",
   "execution_count": 63,
   "id": "95874950-1806-4163-9e10-3b7a7f5e1030",
   "metadata": {},
   "outputs": [
    {
     "data": {
      "text/plain": [
       "<function __main__.my_func(param1='Thank you Lord for giving Tobi Olatunji 200 lvl comp eng 5.0')>"
      ]
     },
     "execution_count": 63,
     "metadata": {},
     "output_type": "execute_result"
    }
   ],
   "source": [
    "my_func"
   ]
  },
  {
   "cell_type": "code",
   "execution_count": 69,
   "id": "7208b7d0-a314-4379-b4c6-b3496c8fdd5b",
   "metadata": {},
   "outputs": [
    {
     "data": {
      "text/plain": [
       "25"
      ]
     },
     "execution_count": 69,
     "metadata": {},
     "output_type": "execute_result"
    }
   ],
   "source": [
    "def square(num):\n",
    "    \"\"\"\n",
    "    THIS IS A DOCSTRING.\n",
    "    CAN GO MULTIPLE LINES.\n",
    "    THIS FUNCTION SQUARES A NUMBER.\n",
    "    \"\"\"\n",
    "    return num**2\n",
    "square(5)"
   ]
  },
  {
   "cell_type": "code",
   "execution_count": 73,
   "id": "c317440b-b513-4740-8a7a-0297d6235eb8",
   "metadata": {},
   "outputs": [
    {
     "data": {
      "text/plain": [
       "100"
      ]
     },
     "execution_count": 73,
     "metadata": {},
     "output_type": "execute_result"
    }
   ],
   "source": [
    "def timi(exam):\n",
    "    return exam * 2\n",
    "timi(50)"
   ]
  },
  {
   "cell_type": "code",
   "execution_count": 75,
   "id": "b0429507-228f-4635-a1eb-6146bc3f7139",
   "metadata": {},
   "outputs": [],
   "source": [
    "# map()"
   ]
  },
  {
   "cell_type": "code",
   "execution_count": 18,
   "id": "7e624da6-8a75-4eea-ba81-5f96a18a42c6",
   "metadata": {},
   "outputs": [],
   "source": [
    "seq = [1,2,3,4,5]\n"
   ]
  },
  {
   "cell_type": "code",
   "execution_count": 83,
   "id": "578bc9d5-c474-4fbe-bddd-79254937ac49",
   "metadata": {},
   "outputs": [
    {
     "data": {
      "text/plain": [
       "[2, 4, 6, 8, 10]"
      ]
     },
     "execution_count": 83,
     "metadata": {},
     "output_type": "execute_result"
    }
   ],
   "source": [
    "list(map(timi,seq))"
   ]
  },
  {
   "cell_type": "code",
   "execution_count": 85,
   "id": "c36fde27-d381-44ec-ba95-0ecb345bc9ff",
   "metadata": {},
   "outputs": [],
   "source": [
    "# the above allows you to perform a function on a list (function,list)"
   ]
  },
  {
   "cell_type": "code",
   "execution_count": 87,
   "id": "8d088355-b37a-4ebf-b792-73f32d285beb",
   "metadata": {},
   "outputs": [],
   "source": [
    "# below is a lambda expression"
   ]
  },
  {
   "cell_type": "code",
   "execution_count": 12,
   "id": "4f4e1646-6acf-435e-a4f8-501858baede0",
   "metadata": {},
   "outputs": [],
   "source": [
    "h = lambda exam:exam*2"
   ]
  },
  {
   "cell_type": "code",
   "execution_count": 14,
   "id": "9bcc1b07-0d60-45ac-9767-23c93fafdb07",
   "metadata": {},
   "outputs": [
    {
     "data": {
      "text/plain": [
       "22"
      ]
     },
     "execution_count": 14,
     "metadata": {},
     "output_type": "execute_result"
    }
   ],
   "source": [
    "h(11)"
   ]
  },
  {
   "cell_type": "code",
   "execution_count": 20,
   "id": "f1ca261e-a157-4cc4-85af-310700d96429",
   "metadata": {},
   "outputs": [
    {
     "data": {
      "text/plain": [
       "[3, 6, 9, 12, 15]"
      ]
     },
     "execution_count": 20,
     "metadata": {},
     "output_type": "execute_result"
    }
   ],
   "source": [
    "list(map(lambda a:a*3,seq))"
   ]
  },
  {
   "cell_type": "code",
   "execution_count": 22,
   "id": "ea6dc694-e54c-4e18-af37-e13861da3c3e",
   "metadata": {},
   "outputs": [
    {
     "data": {
      "text/plain": [
       "[2, 4]"
      ]
     },
     "execution_count": 22,
     "metadata": {},
     "output_type": "execute_result"
    }
   ],
   "source": [
    "list(filter(lambda q: q%2 == 0,seq))"
   ]
  },
  {
   "cell_type": "code",
   "execution_count": 24,
   "id": "790faf00-9a23-4054-af34-1064b41668d6",
   "metadata": {},
   "outputs": [],
   "source": [
    "t = 'Thanking you Lord for making me to make it in Jesus name'"
   ]
  },
  {
   "cell_type": "code",
   "execution_count": 2,
   "id": "bbd7e7c4-e6c7-4677-b703-43c8eafa6b5d",
   "metadata": {},
   "outputs": [],
   "source": [
    "to = 'Tobi will make it #success'"
   ]
  },
  {
   "cell_type": "code",
   "execution_count": 4,
   "id": "d441e216-9d6a-44a6-9ff2-5b1e7f70dbff",
   "metadata": {},
   "outputs": [
    {
     "data": {
      "text/plain": [
       "['Tobi', 'will', 'make', 'it', '#success']"
      ]
     },
     "execution_count": 4,
     "metadata": {},
     "output_type": "execute_result"
    }
   ],
   "source": [
    "to.split()"
   ]
  },
  {
   "cell_type": "code",
   "execution_count": 8,
   "id": "82eb5a20-e4a7-4417-8a90-a41b41113778",
   "metadata": {},
   "outputs": [
    {
     "data": {
      "text/plain": [
       "['Tobi will make it ', 'success']"
      ]
     },
     "execution_count": 8,
     "metadata": {},
     "output_type": "execute_result"
    }
   ],
   "source": [
    "to.split('#')"
   ]
  },
  {
   "cell_type": "code",
   "execution_count": 10,
   "id": "7ccb4484-c609-4908-a9a7-64e614fbf7c5",
   "metadata": {},
   "outputs": [
    {
     "data": {
      "text/plain": [
       "'Tobi will make it '"
      ]
     },
     "execution_count": 10,
     "metadata": {},
     "output_type": "execute_result"
    }
   ],
   "source": [
    "to.split('#')[0]"
   ]
  },
  {
   "cell_type": "code",
   "execution_count": 12,
   "id": "dd1fbdc4-4ac6-45b2-9f02-1ad5f5aee1e0",
   "metadata": {},
   "outputs": [
    {
     "data": {
      "text/plain": [
       "'success'"
      ]
     },
     "execution_count": 12,
     "metadata": {},
     "output_type": "execute_result"
    }
   ],
   "source": [
    "to.split('#')[1]"
   ]
  },
  {
   "cell_type": "code",
   "execution_count": 16,
   "id": "145e6edf-aa76-4eea-92db-df65a4c189e8",
   "metadata": {},
   "outputs": [
    {
     "data": {
      "text/plain": [
       "['Tobi will make it ', 'success']"
      ]
     },
     "execution_count": 16,
     "metadata": {},
     "output_type": "execute_result"
    }
   ],
   "source": [
    "to.split('#')"
   ]
  },
  {
   "cell_type": "code",
   "execution_count": 20,
   "id": "bacd7c36-8293-4fff-8ddf-f2123cdb9863",
   "metadata": {},
   "outputs": [],
   "source": [
    "d = {'k1': 1,'k2': 2}"
   ]
  },
  {
   "cell_type": "code",
   "execution_count": 22,
   "id": "f3703fd7-ff34-45d6-bc4f-610ba190bbfa",
   "metadata": {},
   "outputs": [
    {
     "data": {
      "text/plain": [
       "{'k1': 1, 'k2': 2}"
      ]
     },
     "execution_count": 22,
     "metadata": {},
     "output_type": "execute_result"
    }
   ],
   "source": [
    "d"
   ]
  },
  {
   "cell_type": "code",
   "execution_count": 26,
   "id": "d2c6fa02-77f4-4a8f-9a9b-d7f4fa238d53",
   "metadata": {},
   "outputs": [
    {
     "data": {
      "text/plain": [
       "dict_keys(['k1', 'k2'])"
      ]
     },
     "execution_count": 26,
     "metadata": {},
     "output_type": "execute_result"
    }
   ],
   "source": [
    "d.keys()"
   ]
  },
  {
   "cell_type": "code",
   "execution_count": 28,
   "id": "a2b59433-7250-457b-95bf-eb5282bfa0d8",
   "metadata": {},
   "outputs": [
    {
     "data": {
      "text/plain": [
       "dict_items([('k1', 1), ('k2', 2)])"
      ]
     },
     "execution_count": 28,
     "metadata": {},
     "output_type": "execute_result"
    }
   ],
   "source": [
    "d.items()"
   ]
  },
  {
   "cell_type": "code",
   "execution_count": 30,
   "id": "7cfa5df7-7e3a-416e-bd3b-515a6a34eb54",
   "metadata": {},
   "outputs": [
    {
     "data": {
      "text/plain": [
       "dict_values([1, 2])"
      ]
     },
     "execution_count": 30,
     "metadata": {},
     "output_type": "execute_result"
    }
   ],
   "source": [
    "d.values()"
   ]
  },
  {
   "cell_type": "code",
   "execution_count": 44,
   "id": "dc6442f5-f831-422f-bd3d-a2180f1f7cbc",
   "metadata": {},
   "outputs": [],
   "source": [
    "hm = [1,2,3]"
   ]
  },
  {
   "cell_type": "code",
   "execution_count": 46,
   "id": "629792b3-910a-49ac-abb3-e45f2b4b2fa0",
   "metadata": {},
   "outputs": [
    {
     "data": {
      "text/plain": [
       "3"
      ]
     },
     "execution_count": 46,
     "metadata": {},
     "output_type": "execute_result"
    }
   ],
   "source": [
    "hm.pop()"
   ]
  },
  {
   "cell_type": "code",
   "execution_count": 48,
   "id": "5b78e1eb-0bd1-425d-8466-53c216ccbb75",
   "metadata": {},
   "outputs": [
    {
     "data": {
      "text/plain": [
       "[1, 2]"
      ]
     },
     "execution_count": 48,
     "metadata": {},
     "output_type": "execute_result"
    }
   ],
   "source": [
    "hm"
   ]
  },
  {
   "cell_type": "code",
   "execution_count": 50,
   "id": "20528ebc-921e-4308-87ba-a4a3741b9253",
   "metadata": {},
   "outputs": [],
   "source": [
    "hm = [1,2,3,4,5]"
   ]
  },
  {
   "cell_type": "code",
   "execution_count": 52,
   "id": "0a874c64-a8d2-4e45-a964-5cf5b8678778",
   "metadata": {},
   "outputs": [],
   "source": [
    "item = hm.pop()"
   ]
  },
  {
   "cell_type": "code",
   "execution_count": 54,
   "id": "8c4f0065-d2d3-40f9-9b63-624244f87f66",
   "metadata": {},
   "outputs": [
    {
     "data": {
      "text/plain": [
       "[1, 2, 3, 4]"
      ]
     },
     "execution_count": 54,
     "metadata": {},
     "output_type": "execute_result"
    }
   ],
   "source": [
    "hm"
   ]
  },
  {
   "cell_type": "code",
   "execution_count": 56,
   "id": "f20797c6-d3f4-4f3f-a93b-3436b31e6419",
   "metadata": {},
   "outputs": [
    {
     "data": {
      "text/plain": [
       "5"
      ]
     },
     "execution_count": 56,
     "metadata": {},
     "output_type": "execute_result"
    }
   ],
   "source": [
    "item"
   ]
  },
  {
   "cell_type": "code",
   "execution_count": 68,
   "id": "5989f4ba-a097-475e-8947-2e5ffcd2cb33",
   "metadata": {},
   "outputs": [],
   "source": [
    "fst = hm.pop(0)"
   ]
  },
  {
   "cell_type": "code",
   "execution_count": 70,
   "id": "39df2a13-ea01-4029-85fc-9f6cf76d069a",
   "metadata": {},
   "outputs": [
    {
     "data": {
      "text/plain": [
       "1"
      ]
     },
     "execution_count": 70,
     "metadata": {},
     "output_type": "execute_result"
    }
   ],
   "source": [
    "fst"
   ]
  },
  {
   "cell_type": "code",
   "execution_count": 86,
   "id": "e31eb705-e636-428f-9772-fdba2bef2d69",
   "metadata": {},
   "outputs": [
    {
     "data": {
      "text/plain": [
       "[2, 3, 4, 'SUCESS', 'SUCCESS', 'SUCCESS']"
      ]
     },
     "execution_count": 86,
     "metadata": {},
     "output_type": "execute_result"
    }
   ],
   "source": [
    "hm"
   ]
  },
  {
   "cell_type": "code",
   "execution_count": 82,
   "id": "dc0ea00d-874f-4284-b0ad-052d3d77b796",
   "metadata": {},
   "outputs": [],
   "source": [
    "hm.append('SUCCESS')"
   ]
  },
  {
   "cell_type": "code",
   "execution_count": 84,
   "id": "eb1e158e-12e2-438c-88b7-58e6ba64e110",
   "metadata": {},
   "outputs": [
    {
     "data": {
      "text/plain": [
       "[2, 3, 4, 'SUCESS', 'SUCCESS', 'SUCCESS']"
      ]
     },
     "execution_count": 84,
     "metadata": {},
     "output_type": "execute_result"
    }
   ],
   "source": [
    "hm"
   ]
  },
  {
   "cell_type": "code",
   "execution_count": 88,
   "id": "c070a0b7-fe8a-411a-9e4f-7bf8f95c1834",
   "metadata": {},
   "outputs": [
    {
     "data": {
      "text/plain": [
       "False"
      ]
     },
     "execution_count": 88,
     "metadata": {},
     "output_type": "execute_result"
    }
   ],
   "source": [
    "'Y' in hm"
   ]
  },
  {
   "cell_type": "code",
   "execution_count": 92,
   "id": "1bc0f7b9-f733-4413-bf3b-e1afddf80bce",
   "metadata": {},
   "outputs": [
    {
     "data": {
      "text/plain": [
       "False"
      ]
     },
     "execution_count": 92,
     "metadata": {},
     "output_type": "execute_result"
    }
   ],
   "source": [
    "'i' in [4,5,9]"
   ]
  },
  {
   "cell_type": "code",
   "execution_count": 94,
   "id": "d0705af8-424c-43de-a0aa-2492c16173a7",
   "metadata": {},
   "outputs": [],
   "source": [
    "l = [(1,2),(5,9),(3,8)]"
   ]
  },
  {
   "cell_type": "code",
   "execution_count": 100,
   "id": "10e30682-ffef-4196-8d1d-74463a492520",
   "metadata": {},
   "outputs": [
    {
     "data": {
      "text/plain": [
       "1"
      ]
     },
     "execution_count": 100,
     "metadata": {},
     "output_type": "execute_result"
    }
   ],
   "source": [
    "l[0][0]"
   ]
  },
  {
   "cell_type": "code",
   "execution_count": 98,
   "id": "7e32e7fe-d058-4bbe-8832-7feb9fe29b55",
   "metadata": {},
   "outputs": [],
   "source": [
    "# what is happening above is called tuple unpacking too"
   ]
  },
  {
   "cell_type": "code",
   "execution_count": 108,
   "id": "53b62708-bc4b-4c01-9783-85422efe4fb7",
   "metadata": {},
   "outputs": [
    {
     "name": "stdout",
     "output_type": "stream",
     "text": [
      "2\n",
      "1\n",
      "9\n",
      "5\n",
      "8\n",
      "3\n"
     ]
    }
   ],
   "source": [
    "for j,m in l:\n",
    "    print(m)\n",
    "    print(j)"
   ]
  },
  {
   "cell_type": "code",
   "execution_count": null,
   "id": "33f28e11-5b6c-407a-8419-54ee31d8ac13",
   "metadata": {},
   "outputs": [],
   "source": [
    "\n"
   ]
  }
 ],
 "metadata": {
  "kernelspec": {
   "display_name": "Python [conda env:base] *",
   "language": "python",
   "name": "conda-base-py"
  },
  "language_info": {
   "codemirror_mode": {
    "name": "ipython",
    "version": 3
   },
   "file_extension": ".py",
   "mimetype": "text/x-python",
   "name": "python",
   "nbconvert_exporter": "python",
   "pygments_lexer": "ipython3",
   "version": "3.12.7"
  }
 },
 "nbformat": 4,
 "nbformat_minor": 5
}
